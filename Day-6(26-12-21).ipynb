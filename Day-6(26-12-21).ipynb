{
 "cells": [
  {
   "cell_type": "markdown",
   "id": "0f473fc1",
   "metadata": {},
   "source": [
    "# Python Operators\n",
    " - to perform operations on variables and values"
   ]
  },
  {
   "cell_type": "markdown",
   "id": "3f56becd",
   "metadata": {},
   "source": [
    "# Arithmetic Operators:\n",
    "  - used to perform mathematical operators\n",
    "      - operators:\n",
    "      - **'+'** -- Addition\n",
    "      - **'-'** -- Subtraction\n",
    "      - **'*'** -- Multiplication\n",
    "      - **'/'** -- Division\n",
    "      - **'%'** -- Modulus\n",
    "      - **'**'** -- Exponential\n",
    "      - **'//'** -- Flow division"
   ]
  },
  {
   "cell_type": "code",
   "execution_count": 1,
   "id": "c9adf4dc",
   "metadata": {},
   "outputs": [
    {
     "name": "stdout",
     "output_type": "stream",
     "text": [
      "15\n",
      "5\n",
      "50\n",
      "2.0\n",
      "0\n",
      "100000\n",
      "2\n"
     ]
    }
   ],
   "source": [
    "x = 10\n",
    "y = 5\n",
    "print (x+y)\n",
    "print (x-y)\n",
    "print (x*y)\n",
    "print (x/y)\n",
    "print (x%y)\n",
    "print (x**y)\n",
    "print (x//y)"
   ]
  },
  {
   "cell_type": "markdown",
   "id": "c4c87608",
   "metadata": {},
   "source": [
    "# Assignment Operators:\n",
    " - used to assign values to variables\n",
    " - Operators:\n",
    "    - **'='**\n",
    "    - **'+='**\n",
    "    - **'-='**\n",
    "    - **'*='**\n",
    "    - **'/='**\n",
    "    - **'%='**\n",
    "    - **'**='**\n",
    "    - **'//='**"
   ]
  },
  {
   "cell_type": "code",
   "execution_count": 2,
   "id": "b57a92b1",
   "metadata": {},
   "outputs": [
    {
     "name": "stdout",
     "output_type": "stream",
     "text": [
      "7\n",
      "5\n",
      "20\n",
      "10.0\n",
      "0.0\n",
      "625\n",
      "25\n"
     ]
    }
   ],
   "source": [
    "x = 3\n",
    "x += 4 # x = x+4\n",
    "print(x)\n",
    "x -= 2\n",
    "print(x)\n",
    "x *= 4\n",
    "print(x)\n",
    "x /= 2\n",
    "print(x)\n",
    "x %= 5\n",
    "print(x)\n",
    "x = 5\n",
    "x **= 4\n",
    "print(x)\n",
    "x //= 25\n",
    "print(x)"
   ]
  },
  {
   "cell_type": "markdown",
   "id": "9656c4b5",
   "metadata": {},
   "source": [
    "# Comparison Operators:\n",
    "  - used to compare values\n",
    "  - operators\n",
    "    - **'=='**\n",
    "    - **'!='**\n",
    "    - **'<'**\n",
    "    - **'>'**\n",
    "    - **'<='**\n",
    "    - **'>='**\n",
    "    "
   ]
  },
  {
   "cell_type": "code",
   "execution_count": 3,
   "id": "da5c0df0",
   "metadata": {},
   "outputs": [
    {
     "name": "stdout",
     "output_type": "stream",
     "text": [
      "False\n",
      "True\n",
      "True\n",
      "False\n",
      "True\n",
      "False\n"
     ]
    }
   ],
   "source": [
    "x = 4\n",
    "y = 17\n",
    "print (x==y)\n",
    "print (x!=y)\n",
    "print (x<y)\n",
    "print (x>y)\n",
    "print (x<=y)\n",
    "print (x>=y)\n"
   ]
  },
  {
   "cell_type": "markdown",
   "id": "430e5ac8",
   "metadata": {},
   "source": [
    "# Logical Operators:\n",
    " - used to compare conditional statements\n",
    " - Operators:\n",
    "    - **'and'**\n",
    "    - **'or'**\n",
    "    - **'not'**"
   ]
  },
  {
   "cell_type": "code",
   "execution_count": 4,
   "id": "263b554b",
   "metadata": {},
   "outputs": [
    {
     "name": "stdout",
     "output_type": "stream",
     "text": [
      "False\n",
      "True\n",
      "False\n"
     ]
    }
   ],
   "source": [
    "x = 4\n",
    "print(x > 3 and x > 7)\n",
    "print(x > 3 or x > 7)\n",
    "print (not(x > 3 or x > 7))\n"
   ]
  },
  {
   "cell_type": "markdown",
   "id": "e2f2894a",
   "metadata": {},
   "source": [
    "# Identity Operators:\n",
    "- used to compare objects:\n",
    "- operators:\n",
    "   - **'is'**\n",
    "   - **'is not'**"
   ]
  },
  {
   "cell_type": "code",
   "execution_count": 5,
   "id": "de6813d7",
   "metadata": {},
   "outputs": [
    {
     "name": "stdout",
     "output_type": "stream",
     "text": [
      "True\n",
      "False\n",
      "True\n",
      "True\n"
     ]
    }
   ],
   "source": [
    "a = 5\n",
    "b = 5\n",
    "c = 10\n",
    "print(a is b)\n",
    "print(a is c)\n",
    "print(a is not c)\n",
    "print(a is b is not c)"
   ]
  },
  {
   "cell_type": "markdown",
   "id": "aae6c4a6",
   "metadata": {},
   "source": [
    "# Membership Operator\n",
    "- used to test given sequence presented in object\n",
    "- operators:\n",
    "\n",
    "  - **'in'**\n",
    "  - **'not in'**"
   ]
  },
  {
   "cell_type": "code",
   "execution_count": 6,
   "id": "bccc3bf1",
   "metadata": {},
   "outputs": [
    {
     "name": "stdout",
     "output_type": "stream",
     "text": [
      "True\n",
      "False\n",
      "True\n",
      "False\n",
      "True\n"
     ]
    }
   ],
   "source": [
    "a = \"jupyter\"\n",
    "print(\"j\" in a)\n",
    "print(\"a\" in a)\n",
    "print(\"py\" in a)\n",
    "print(\"er\" not in a)\n",
    "print(\"up\" in a )"
   ]
  },
  {
   "cell_type": "markdown",
   "id": "f16efcdb",
   "metadata": {},
   "source": [
    "# Control Flow Statements:\n",
    "- Conditional statements:\n",
    "   - if-else statement\n",
    "- Looping statements:\n",
    "   - While loop statement\n",
    "   - for loop statement"
   ]
  },
  {
   "cell_type": "markdown",
   "id": "1f1fda54",
   "metadata": {},
   "source": [
    "# If-else statement"
   ]
  },
  {
   "cell_type": "code",
   "execution_count": null,
   "id": "1a7aa4b2",
   "metadata": {},
   "outputs": [],
   "source": [
    "# syntax:\n",
    "if boolean_condition:\n",
    "    statement\n",
    "elif:\n",
    "    statement\n",
    "else:\n",
    "    statement"
   ]
  },
  {
   "cell_type": "code",
   "execution_count": 8,
   "id": "1260c385",
   "metadata": {},
   "outputs": [
    {
     "name": "stdout",
     "output_type": "stream",
     "text": [
      "enter a number:52\n",
      "even number\n"
     ]
    }
   ],
   "source": [
    "# check given is even or odd\n",
    "n = int(input(\"enter a number:\"))\n",
    "if n%2 ==0:\n",
    "    print(\"even number\")\n",
    "else:\n",
    "    print(\"odd number\")"
   ]
  },
  {
   "cell_type": "code",
   "execution_count": 9,
   "id": "dc232e24",
   "metadata": {},
   "outputs": [
    {
     "name": "stdout",
     "output_type": "stream",
     "text": [
      "enter a number45\n",
      "yes\n"
     ]
    }
   ],
   "source": [
    "# check given is multiple of both 3 and 5\n",
    "n = int(input(\"enter a number\"))\n",
    "if n%3==0 and n%5==0:\n",
    "    print(\"yes\")\n",
    "else:\n",
    "    print(\"no\")"
   ]
  },
  {
   "cell_type": "code",
   "execution_count": 27,
   "id": "a343d406",
   "metadata": {},
   "outputs": [
    {
     "name": "stdout",
     "output_type": "stream",
     "text": [
      "enter a number:-5\n",
      "negative\n"
     ]
    }
   ],
   "source": [
    "# check given is postive number, negative number or zero\n",
    "n = int(input(\"enter a number:\"))\n",
    "if n>0:\n",
    "    print(\"positive\")\n",
    "elif n<0:\n",
    "    print(\"negative\")\n",
    "else:\n",
    "    print(\"zero\")\n"
   ]
  },
  {
   "cell_type": "code",
   "execution_count": 32,
   "id": "31a7b264",
   "metadata": {},
   "outputs": [
    {
     "name": "stdout",
     "output_type": "stream",
     "text": [
      "enter a number:45\n",
      "enter a number:6\n",
      "enter a number:12\n",
      " a is large number\n"
     ]
    }
   ],
   "source": [
    "# find large number by given  3 inputs\n",
    "a = int(input(\"enter a number:\"))\n",
    "b = int(input(\"enter a number:\"))\n",
    "c = int(input(\"enter a number:\"))\n",
    "if a>b and a>c:\n",
    "    print(\" a is large number\")\n",
    "elif b>a and b>c:\n",
    "    print(\"b is large number\")\n",
    "else:\n",
    "    print(\"c is large number\")"
   ]
  },
  {
   "cell_type": "code",
   "execution_count": 13,
   "id": "6368459a",
   "metadata": {},
   "outputs": [
    {
     "name": "stdout",
     "output_type": "stream",
     "text": [
      "enter a marks:25\n",
      "E\n"
     ]
    }
   ],
   "source": [
    "# find grading\n",
    "n = int(input(\"enter a marks:\"))\n",
    "if n>=80 :\n",
    "    print(\"A\")\n",
    "elif n==60 and n<80:\n",
    "    print(\"B\")\n",
    "elif n==50 and n<60:\n",
    "    print(\"C\")\n",
    "elif n==45 and n<50:\n",
    "    print(\"D\")\n",
    "elif n==25 and n<45:\n",
    "    print(\"E\")\n",
    "else:\n",
    "    print(\"F\")\n"
   ]
  },
  {
   "cell_type": "markdown",
   "id": "e025c0b3",
   "metadata": {},
   "source": [
    "# While loop Statements:"
   ]
  },
  {
   "cell_type": "code",
   "execution_count": 12,
   "id": "910ac00b",
   "metadata": {},
   "outputs": [
    {
     "name": "stdout",
     "output_type": "stream",
     "text": [
      "python\n",
      "python\n",
      "python\n",
      "python\n",
      "python\n"
     ]
    }
   ],
   "source": [
    "i = 0 \n",
    "while i<5:\n",
    "    print(\"python\")\n",
    "    i = i+1"
   ]
  },
  {
   "cell_type": "code",
   "execution_count": 2,
   "id": "d67853cf",
   "metadata": {},
   "outputs": [
    {
     "name": "stdout",
     "output_type": "stream",
     "text": [
      "1 2 3 4 5 6 7 8 9 10 "
     ]
    }
   ],
   "source": [
    "# print 1 to 10 number\n",
    "i = 1\n",
    "while i<11:\n",
    "    print(i,end=\" \")\n",
    "    i = i+1"
   ]
  },
  {
   "cell_type": "code",
   "execution_count": 1,
   "id": "4d52191c",
   "metadata": {},
   "outputs": [
    {
     "name": "stdout",
     "output_type": "stream",
     "text": [
      "2 4 6 8 10 "
     ]
    }
   ],
   "source": [
    "# print even number from 1 to 10\n",
    "i = 1\n",
    "while i<=10:\n",
    "    if i%2==0:\n",
    "        print(i,end=\" \")\n",
    "    i = i+1\n",
    "    "
   ]
  },
  {
   "cell_type": "code",
   "execution_count": 14,
   "id": "a64109f9",
   "metadata": {},
   "outputs": [
    {
     "name": "stdout",
     "output_type": "stream",
     "text": [
      "14\n",
      "1 2 7 14 "
     ]
    }
   ],
   "source": [
    "# input : 6 output : 1 2 3 6\n",
    "i = 1\n",
    "n = int(input())\n",
    "while i<=n:\n",
    "    if n%i ==0:\n",
    "        print(i,end=\" \")\n",
    "    i = i+1"
   ]
  },
  {
   "cell_type": "code",
   "execution_count": null,
   "id": "d652d0bc",
   "metadata": {},
   "outputs": [],
   "source": []
  }
 ],
 "metadata": {
  "kernelspec": {
   "display_name": "Python 3",
   "language": "python",
   "name": "python3"
  },
  "language_info": {
   "codemirror_mode": {
    "name": "ipython",
    "version": 3
   },
   "file_extension": ".py",
   "mimetype": "text/x-python",
   "name": "python",
   "nbconvert_exporter": "python",
   "pygments_lexer": "ipython3",
   "version": "3.8.8"
  }
 },
 "nbformat": 4,
 "nbformat_minor": 5
}
